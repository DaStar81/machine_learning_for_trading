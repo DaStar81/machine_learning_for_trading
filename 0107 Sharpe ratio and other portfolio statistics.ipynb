{
 "cells": [
  {
   "cell_type": "markdown",
   "metadata": {},
   "source": [
    "**Portfolio**: an allocation of funds to a set of stocks.  \n",
    "We are going to follow a buy-and-hold strategy where we invest in a set of stocks with a certain allocation and then observe how things go moving forward.    \n",
    "We assume the allocation sum to 1.0 .  "
   ]
  },
  {
   "cell_type": "markdown",
   "metadata": {},
   "source": [
    "### Daily portfolio values\n",
    "We want to calculate the total value of a portfolio day by day by day.  \n",
    "Once we have that infomation, we can compute the statistics on the overall portfolio.  \n",
    "example:  \n",
    "+ start_val=1000000\n",
    "+ start-date=2009-1-1\n",
    "+ end_date=2011-12-31\n",
    "+ symbol=['SPY','XOM','GOOG','GLD']\n",
    "+ allocs=[0.4,0.4,0.1,0.1]"
   ]
  },
  {
   "cell_type": "markdown",
   "metadata": {},
   "source": [
    "+ normalized these price -- normed=prices/prices[0]   \n",
    "[1.0,1.0,1.0,1.0]\n",
    "The frist row are all 1.0. The data precedes after that are essentially cumulative returns starting from the start date.\n",
    "+ multiply the normed values by the allocation of each of equities -- alloced=normed\\*allocs  \n",
    "[0.4,0.4,0.1,0.1]\n",
    "The data after each row will be sized accordingly.\n",
    "+ multiply our alloced dataframe times start-val -- pos_vals=alloced\\*start_val   \n",
    "[400000,400000,100000,100000]\n",
    "position values: at each day how much that position is worth.\n",
    "In the first row, the amount of cash allocated to each asset, and then going forward to see the amount of that asset overtime.\n",
    "+ Now we have the value of each day for the individual assets. We can calculate the total value for the portfolio each day by summing across each day -- port_val=pos_vals.sum(axis=1)\n",
    "the first day: 1000,000; the second day will change a little bit."
   ]
  },
  {
   "cell_type": "code",
   "execution_count": null,
   "metadata": {
    "collapsed": true
   },
   "outputs": [],
   "source": []
  }
 ],
 "metadata": {
  "kernelspec": {
   "display_name": "Python 2",
   "language": "python",
   "name": "python2"
  },
  "language_info": {
   "codemirror_mode": {
    "name": "ipython",
    "version": 2
   },
   "file_extension": ".py",
   "mimetype": "text/x-python",
   "name": "python",
   "nbconvert_exporter": "python",
   "pygments_lexer": "ipython2",
   "version": "2.7.13"
  }
 },
 "nbformat": 4,
 "nbformat_minor": 2
}
